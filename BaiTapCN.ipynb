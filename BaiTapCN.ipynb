{
  "cells": [
    {
      "cell_type": "code",
      "execution_count": null,
      "metadata": {
        "colab": {
          "base_uri": "https://localhost:8080/"
        },
        "id": "ssc2U1uxrASB",
        "outputId": "20f694aa-7425-4fbe-e171-44c4ae6747e5"
      },
      "outputs": [
        {
          "name": "stdout",
          "output_type": "stream",
          "text": [
            "Mounted at /content/gdrive\n"
          ]
        }
      ],
      "source": [
        "from google.colab import drive\n",
        "drive.mount('/content/gdrive')\n"
      ]
    },
    {
      "cell_type": "code",
      "execution_count": null,
      "metadata": {
        "colab": {
          "base_uri": "https://localhost:8080/"
        },
        "id": "2T0MDJ2Fqm1M",
        "outputId": "32bd8a9c-9b47-4ce0-aaff-e9aaaa2da8b9"
      },
      "outputs": [
        {
          "name": "stdout",
          "output_type": "stream",
          "text": [
            "<class 'int'>\n"
          ]
        }
      ],
      "source": [
        "x = 3\n",
        "print(type(x))"
      ]
    },
    {
      "cell_type": "code",
      "execution_count": null,
      "metadata": {
        "colab": {
          "base_uri": "https://localhost:8080/"
        },
        "id": "qwInxrH5q_Hu",
        "outputId": "4c72c968-555a-49ee-8979-7e1b78174c23"
      },
      "outputs": [
        {
          "name": "stdout",
          "output_type": "stream",
          "text": [
            "[Errno 2] No such file or directory: '/content/gdrive/My Drive/Deep-learning'\n",
            "/content\n"
          ]
        }
      ],
      "source": [
        "%cd '/content/gdrive/My Drive/Deep-learning'\n"
      ]
    },
    {
      "cell_type": "code",
      "execution_count": null,
      "metadata": {
        "colab": {
          "base_uri": "https://localhost:8080/"
        },
        "id": "LbQnf0cWssEx",
        "outputId": "f001fe3b-1cb8-45b7-b2ee-fa5250bd4459"
      },
      "outputs": [
        {
          "name": "stdout",
          "output_type": "stream",
          "text": [
            "3\n",
            "4\n",
            "2\n",
            "6\n",
            "9\n",
            "4\n",
            "8\n",
            "<class 'float'>\n",
            "2.5 3.5 5.0 6.25\n"
          ]
        }
      ],
      "source": [
        "print(x)\n",
        "print(x + 1)\n",
        "print(x - 1)\n",
        "print(x * 2)\n",
        "print(x ** 2)\n",
        "x += 1\n",
        "print(x)\n",
        "x *= 2\n",
        "print(x)\n",
        "y = 2.5\n",
        "print(type(y))\n",
        "print(y, y + 1, y * 2, y ** 2)"
      ]
    },
    {
      "cell_type": "code",
      "execution_count": null,
      "metadata": {
        "colab": {
          "base_uri": "https://localhost:8080/"
        },
        "id": "88hiU7sVtPO-",
        "outputId": "943853da-aa67-4b88-eb23-25517e2c79d9"
      },
      "outputs": [
        {
          "name": "stdout",
          "output_type": "stream",
          "text": [
            "<class 'bool'>\n",
            "False\n",
            "True\n",
            "False\n",
            "True\n"
          ]
        }
      ],
      "source": [
        "t = True\n",
        "f = False\n",
        "print(type(t))\n",
        "print(t and f)\n",
        "print(t or f)\n",
        "print(not t)\n",
        "print(t != f)"
      ]
    },
    {
      "cell_type": "code",
      "execution_count": null,
      "metadata": {
        "id": "ZxIpUPZltd-Y"
      },
      "outputs": [],
      "source": [
        "hello = 'hello'\n",
        "world = \"world\"\n",
        "print(hello)\n",
        "print(len(hello))\n",
        "hw = hello + ' ' + world\n",
        "print(hw)\n",
        "hw12 = '{} {} {}'.format(hello, world, 12)\n",
        "print(hw12)\n",
        "s = \"hello\"\n",
        "print(s.capitalize())\n",
        "print(s.upper())\n",
        "print(s.replace('l', '(ell)'))\n",
        "print(' world '.strip())\n",
        "\n",
        "print('Dao Quang Huy'.split())\n",
        "print(' '.join(['Dao', 'Quang', 'Huy']))"
      ]
    },
    {
      "cell_type": "code",
      "execution_count": null,
      "metadata": {
        "colab": {
          "base_uri": "https://localhost:8080/"
        },
        "id": "7wzf-tWsuHWi",
        "outputId": "75347782-cbb2-488d-8283-fa922ff88804"
      },
      "outputs": [
        {
          "name": "stdout",
          "output_type": "stream",
          "text": [
            "[3, 1, 2] 2\n",
            "2\n",
            "[3, 1, 'foo']\n",
            "[3, 1, 'foo', 'bar']\n",
            "bar [3, 1, 'foo']\n"
          ]
        }
      ],
      "source": [
        "xs = [3, 1, 2]\n",
        "print(xs, xs[2])\n",
        "print(xs[-1])\n",
        "xs[2] = 'foo'\n",
        "print(xs)\n",
        "xs.append('bar')\n",
        "print(xs)\n",
        "x = xs.pop()\n",
        "print(x, xs)"
      ]
    },
    {
      "cell_type": "code",
      "execution_count": null,
      "metadata": {
        "colab": {
          "base_uri": "https://localhost:8080/"
        },
        "id": "s7sma5-GueiM",
        "outputId": "31e6abb0-093a-4f8b-e765-9b46c655518d"
      },
      "outputs": [
        {
          "name": "stdout",
          "output_type": "stream",
          "text": [
            "[0, 1, 2, 3, 4]\n",
            "[2, 3]\n",
            "[2, 3, 4]\n",
            "[0, 1]\n",
            "[0, 1, 2, 3, 4]\n",
            "[0, 1, 2, 3]\n",
            "[0, 1, 8, 9, 4]\n"
          ]
        }
      ],
      "source": [
        "nums = list(range(5))\n",
        "print(nums)\n",
        "print(nums[2:4])\n",
        "print(nums[2:])\n",
        "print(nums[:2])\n",
        "print(nums[:])\n",
        "print(nums[:-1])\n",
        "nums[2:4] = [8, 9]\n",
        "print(nums)"
      ]
    },
    {
      "cell_type": "code",
      "execution_count": null,
      "metadata": {
        "colab": {
          "base_uri": "https://localhost:8080/"
        },
        "id": "qGCPB5hju4RU",
        "outputId": "9e7c9b28-13ec-40d1-8ef7-154b6445e522"
      },
      "outputs": [
        {
          "name": "stdout",
          "output_type": "stream",
          "text": [
            "cat\n",
            "dog\n",
            "monkey\n",
            "#1: cat\n",
            "#2: dog\n",
            "#3: monkey\n"
          ]
        }
      ],
      "source": [
        "animals = ['cat', 'dog', 'monkey']\n",
        "for animal in animals:\n",
        "  print('%s' % (animal))\n",
        "for idx, animal in enumerate(animals):\n",
        "  print('#%d: %s' % (idx + 1, animal))\n"
      ]
    },
    {
      "cell_type": "code",
      "execution_count": null,
      "metadata": {
        "colab": {
          "base_uri": "https://localhost:8080/"
        },
        "id": "VLNZxbnYvPXG",
        "outputId": "d19b6b99-21c9-496a-b332-d070216fdff2"
      },
      "outputs": [
        {
          "name": "stdout",
          "output_type": "stream",
          "text": [
            "cute\n",
            "True\n",
            "wet\n"
          ]
        }
      ],
      "source": [
        "d = {'cat': 'cute', 'dog': 'furry'}\n",
        "print(d['cat'])\n",
        "print('cat' in d)\n",
        "d['fish'] = 'wet'\n",
        "print(d['fish'])\n",
        "del d['fish']"
      ]
    },
    {
      "cell_type": "code",
      "execution_count": null,
      "metadata": {
        "colab": {
          "base_uri": "https://localhost:8080/"
        },
        "id": "K7-DeWU4vbBh",
        "outputId": "03d4e1c5-13d1-4ad1-a932-1d7470f46283"
      },
      "outputs": [
        {
          "name": "stdout",
          "output_type": "stream",
          "text": [
            "A person has 2 legs\n",
            "A cat has 4 legs\n",
            "A spider has 8 legs\n",
            "2 legs\n",
            "4 legs\n",
            "8 legs\n",
            "A person has 2 legs\n",
            "A cat has 4 legs\n",
            "A spider has 8 legs\n"
          ]
        }
      ],
      "source": [
        "d = {'person': 2, 'cat': 4, 'spider': 8}\n",
        "for animal in d:\n",
        "  print('A %s has %d legs' % (animal, d[animal]))\n",
        "for legs in d.values():\n",
        "  print('%d legs' % (legs))\n",
        "for animal, legs in d.items():\n",
        "  print('A %s has %d legs' % (animal, legs))\n"
      ]
    },
    {
      "cell_type": "code",
      "execution_count": null,
      "metadata": {
        "colab": {
          "base_uri": "https://localhost:8080/"
        },
        "id": "9nSDh5tgvsbj",
        "outputId": "df08c995-b6f1-46a8-9e23-ae261e0af892"
      },
      "outputs": [
        {
          "name": "stdout",
          "output_type": "stream",
          "text": [
            "negative\n",
            "zero\n",
            "positive\n"
          ]
        }
      ],
      "source": [
        "def sign(x):\n",
        "  if x > 0:\n",
        "    return 'positive'\n",
        "  elif x < 0:\n",
        "    return 'negative'\n",
        "  else:\n",
        "    return 'zero'\n",
        "for x in [-1, 0, 1]:\n",
        "  print(sign(x))\n"
      ]
    },
    {
      "cell_type": "code",
      "execution_count": null,
      "metadata": {
        "colab": {
          "base_uri": "https://localhost:8080/"
        },
        "id": "CgQq8GizwDDw",
        "outputId": "1421381d-9789-4740-aa36-a85bf57ae165"
      },
      "outputs": [
        {
          "name": "stdout",
          "output_type": "stream",
          "text": [
            "<class 'numpy.ndarray'>\n",
            "(3,)\n",
            "1 2 3\n",
            "[5 2 3]\n",
            "(2, 3)\n",
            "1 2 4\n"
          ]
        }
      ],
      "source": [
        "import numpy as np\n",
        "a = np.array([1, 2, 3])\n",
        "print(type(a))\n",
        "print(a.shape)\n",
        "print(a[0], a[1], a[2])\n",
        "a[0] = 5\n",
        "print(a)\n",
        "b = np.array([[1,2,3],[4,5,6]])\n",
        "print(b.shape)\n",
        "print(b[0, 0], b[0, 1], b[1, 0])"
      ]
    },
    {
      "cell_type": "code",
      "execution_count": null,
      "metadata": {
        "colab": {
          "base_uri": "https://localhost:8080/"
        },
        "id": "iMsV3N76wXFf",
        "outputId": "47a4b934-31a4-47b8-ab99-c37ce25c22f1"
      },
      "outputs": [
        {
          "name": "stdout",
          "output_type": "stream",
          "text": [
            "[[0. 0.]\n",
            " [0. 0.]]\n",
            "[[1. 1.]]\n",
            "[[7 7]\n",
            " [7 7]]\n",
            "[[1. 0.]\n",
            " [0. 1.]]\n",
            "[[0.11515622 0.72969286]\n",
            " [0.98687991 0.42725486]]\n"
          ]
        }
      ],
      "source": [
        "import numpy as np\n",
        "a = np.zeros((2,2))\n",
        "print(a)\n",
        "b = np.ones((1,2))\n",
        "print(b)\n",
        "c = np.full((2,2), 7)\n",
        "print(c)\n",
        "d = np.eye(2)\n",
        "print(d)\n",
        "e = np.random.random((2,2))\n",
        "print(e)"
      ]
    },
    {
      "cell_type": "code",
      "execution_count": null,
      "metadata": {
        "colab": {
          "base_uri": "https://localhost:8080/"
        },
        "id": "m7Mp5uCSwxv9",
        "outputId": "dcd4e5ca-3b22-4cf0-b204-b86267123b4c"
      },
      "outputs": [
        {
          "name": "stdout",
          "output_type": "stream",
          "text": [
            "2\n",
            "7\n"
          ]
        }
      ],
      "source": [
        "import numpy as np\n",
        "a = np.array([[1,2,3,4], [5,6,7,8], [9,10,11,12]])\n",
        "b = a[:2, 1:3]\n",
        "print(a[0, 1])\n",
        "a[0, 1] = 7\n",
        "print(a[0, 1])"
      ]
    },
    {
      "cell_type": "code",
      "execution_count": null,
      "metadata": {
        "colab": {
          "base_uri": "https://localhost:8080/"
        },
        "id": "PziB9CtxxXiy",
        "outputId": "e25c03b2-05c3-4bac-fabf-cc698e84aa1c"
      },
      "outputs": [
        {
          "name": "stdout",
          "output_type": "stream",
          "text": [
            "[5 6 7 8] (4,)\n",
            "[[5 6 7 8]] (1, 4)\n"
          ]
        }
      ],
      "source": [
        "import numpy as np\n",
        "a = np.array([[1,2,3,4], [5,6,7,8], [9,10,11,12]])\n",
        "row_r1 = a[1, :]\n",
        "row_r2 = a[1:2, :]\n",
        "print(row_r1, row_r1.shape)\n",
        "print(row_r2, row_r2.shape)"
      ]
    },
    {
      "cell_type": "code",
      "execution_count": null,
      "metadata": {
        "colab": {
          "base_uri": "https://localhost:8080/"
        },
        "id": "MKND9eZWxvJ_",
        "outputId": "ced577d9-b48d-4503-ad19-d25ec3a084e5"
      },
      "outputs": [
        {
          "name": "stdout",
          "output_type": "stream",
          "text": [
            "[[ 7. 11.]\n",
            " [10. 12.]]\n",
            "[[ 7. 11.]\n",
            " [10. 12.]]\n",
            "[[-3. -1.]\n",
            " [-4. -4.]]\n",
            "[[-3. -1.]\n",
            " [-4. -4.]]\n",
            "[[10. 30.]\n",
            " [21. 32.]]\n",
            "[[10. 30.]\n",
            " [21. 32.]]\n",
            "[[0.4        0.83333333]\n",
            " [0.42857143 0.5       ]]\n",
            "[[0.4        0.83333333]\n",
            " [0.42857143 0.5       ]]\n",
            "[[1.41421356 2.23606798]\n",
            " [1.73205081 2.        ]]\n"
          ]
        }
      ],
      "source": [
        "x = np.array([[2,5],[3,4]], dtype=np.float64)\n",
        "y = np.array([[5,6],[7,8]], dtype=np.float64)\n",
        "print(x + y)\n",
        "print(np.add(x, y))\n",
        "print(x - y)\n",
        "print(np.subtract(x, y))\n",
        "print(x * y)\n",
        "print(np.multiply(x, y))\n",
        "print(x / y)\n",
        "print(np.divide(x, y))\n",
        "print(np.sqrt(x))"
      ]
    },
    {
      "cell_type": "code",
      "execution_count": null,
      "metadata": {
        "colab": {
          "base_uri": "https://localhost:8080/"
        },
        "id": "s11YoPSBx-oL",
        "outputId": "da787237-b447-4a71-d170-04f7e5c08d7f"
      },
      "outputs": [
        {
          "name": "stdout",
          "output_type": "stream",
          "text": [
            "219\n",
            "219\n",
            "[[19 22]\n",
            " [43 50]]\n",
            "[[19 22]\n",
            " [43 50]]\n"
          ]
        }
      ],
      "source": [
        "x = np.array([[1,2],[3,4]])\n",
        "y = np.array([[5,6],[7,8]])\n",
        "v = np.array([9,10])\n",
        "w = np.array([11, 12])\n",
        "print(v.dot(w))\n",
        "print(np.dot(v, w))\n",
        "print(x.dot(y))\n",
        "print(np.dot(x, y))"
      ]
    },
    {
      "cell_type": "code",
      "execution_count": null,
      "metadata": {
        "colab": {
          "base_uri": "https://localhost:8080/"
        },
        "id": "z88I9w1lyK81",
        "outputId": "0aa38e32-b4c8-4af2-bb29-5eaf29ecf8a0"
      },
      "outputs": [
        {
          "name": "stdout",
          "output_type": "stream",
          "text": [
            "10\n",
            "[4 6]\n",
            "[3 7]\n"
          ]
        }
      ],
      "source": [
        "x = np.array([[1,2],[3,4]])\n",
        "print(np.sum(x))\n",
        "print(np.sum(x, axis=0))\n",
        "print(np.sum(x, axis=1))"
      ]
    },
    {
      "cell_type": "code",
      "execution_count": null,
      "metadata": {
        "colab": {
          "base_uri": "https://localhost:8080/"
        },
        "id": "0BNAPZtnyWIY",
        "outputId": "99a160e7-c27b-4882-f90d-077b55f74170"
      },
      "outputs": [
        {
          "name": "stdout",
          "output_type": "stream",
          "text": [
            "[[ 2  2  4]\n",
            " [ 5  5  7]\n",
            " [ 8  8 10]\n",
            " [11 11 13]]\n",
            "[[ 2  2  4]\n",
            " [ 5  5  7]\n",
            " [ 8  8 10]\n",
            " [11 11 13]]\n"
          ]
        }
      ],
      "source": [
        "x = np.array([[1,2,3], [4,5,6], [7,8,9], [10, 11, 12]])\n",
        "v = np.array([1, 0, 1])\n",
        "y = np.empty_like(x)\n",
        "for i in range(4):\n",
        "  y[i, :] = x[i, :] + v\n",
        "print(y)\n",
        "print(x + v)"
      ]
    },
    {
      "cell_type": "code",
      "execution_count": null,
      "metadata": {
        "colab": {
          "base_uri": "https://localhost:8080/",
          "height": 430
        },
        "id": "cj96tmeDylaG",
        "outputId": "0fd28ab4-4411-4f72-aba3-a632131e74f4"
      },
      "outputs": [
        {
          "data": {
            "image/png": "[encoded data removed]",
            "text/plain": [
              "<Figure size 640x480 with 1 Axes>"
            ]
          },
          "metadata": {},
          "output_type": "display_data"
        }
      ],
      "source": [
        "import matplotlib.pyplot as plt\n",
        "x = np.arange(2, 10 * np.pi, 0.5)\n",
        "y = np.sin(x)\n",
        "plt.plot(x, y)\n",
        "plt.show()"
      ]
    },
    {
      "cell_type": "code",
      "execution_count": null,
      "metadata": {
        "colab": {
          "base_uri": "https://localhost:8080/",
          "height": 472
        },
        "id": "PhJgoSkZyyF1",
        "outputId": "19df5fc5-6a92-4dd0-b92c-4e216cba474c"
      },
      "outputs": [
        {
          "data": {
            "image/png": "[encoded data removed]",
            "text/plain": [
              "<Figure size 640x480 with 1 Axes>"
            ]
          },
          "metadata": {},
          "output_type": "display_data"
        }
      ],
      "source": [
        "x = np.arange(2, 6 , 0.2)\n",
        "y_sin = np.sin(x)\n",
        "y_cos = np.cos(x)\n",
        "plt.plot(x, y_sin)\n",
        "plt.plot(x, y_cos)\n",
        "plt.xlabel('x axis label')\n",
        "plt.ylabel('y axis label')\n",
        "plt.title('Sine and Cosine')\n",
        "plt.legend(['Sine', 'Cosine'])\n",
        "plt.show()"
      ]
    },
    {
      "cell_type": "code",
      "execution_count": null,
      "metadata": {
        "colab": {
          "base_uri": "https://localhost:8080/",
          "height": 452
        },
        "id": "eM0gqNRNzA9R",
        "outputId": "155623d1-16c8-4698-db5e-755b4c4d0530"
      },
      "outputs": [
        {
          "data": {
            "image/png": "[encoded data removed]",
            "text/plain": [
              "<Figure size 640x480 with 2 Axes>"
            ]
          },
          "metadata": {},
          "output_type": "display_data"
        }
      ],
      "source": [
        "x = np.arange(0, 3 * np.pi, 0.1)\n",
        "y_sin = np.sin(x)\n",
        "y_cos = np.cos(x)\n",
        "plt.subplot(2, 1, 1)\n",
        "plt.plot(x, y_sin)\n",
        "plt.title('Sine')\n",
        "plt.subplot(2, 1, 2)\n",
        "plt.plot(x, y_cos)\n",
        "plt.title('Cosine')\n",
        "plt.show()\n",
        "\n"
      ]
    },
    {
      "cell_type": "markdown",
      "metadata": {
        "id": "onbAo9dmtxhb"
      },
      "source": []
    }
  ],
  "metadata": {
    "accelerator": "GPU",
    "colab": {
      "gpuType": "T4",
      "provenance": []
    },
    "kernelspec": {
      "display_name": "Python 3",
      "name": "python3"
    },
    "language_info": {
      "name": "python"
    }
  },
  "nbformat": 4,
  "nbformat_minor": 0
}
